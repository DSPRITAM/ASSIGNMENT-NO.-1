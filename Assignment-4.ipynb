{
 "cells": [
  {
   "cell_type": "code",
   "execution_count": 6,
   "id": "cd5e1aa7",
   "metadata": {},
   "outputs": [
    {
     "data": {
      "text/plain": [
       "['ineuron', 'python']"
      ]
     },
     "execution_count": 6,
     "metadata": {},
     "output_type": "execute_result"
    }
   ],
   "source": [
    "### 1. What exactly is []?\n",
    "#Ans:\n",
    "# []This is an empty list, generally we use it to create new list from the current one with the help of append operation.\n",
    "# let us make a new list from current one.\n",
    "l=[1,2,3,4,'ineuron',6,7,'python']\n",
    "l1=[]# in this empty list we will add string.\n",
    "\n",
    "\n",
    "for i in l:\n",
    "    if type(i)==str:\n",
    "        l1.append(i)\n",
    "    \n",
    "l1 # now we have new list which contains only strings."
   ]
  },
  {
   "cell_type": "code",
   "execution_count": 8,
   "id": "e13fc68d",
   "metadata": {},
   "outputs": [
    {
     "name": "stdout",
     "output_type": "stream",
     "text": [
      "[2, 4, 6, 'hello', 8, 10]\n"
     ]
    }
   ],
   "source": [
    "### 2. In a list of values stored in a variable called spam, how would you assign the value 'hello' as the third value? (Assume [2, 4, 6, 8, 10] are in spam.)\n",
    "#Ans:\n",
    "spam=[2,4,6,8,10]\n",
    "# now wwe are going to add 'hello' as the third value.\n",
    "spam.insert(3,'hello')\n",
    "print(spam)\n",
    "# we get 'hello' as the third value in the list."
   ]
  },
  {
   "cell_type": "code",
   "execution_count": 9,
   "id": "a4de5a1d",
   "metadata": {},
   "outputs": [
    {
     "data": {
      "text/plain": [
       "'d'"
      ]
     },
     "execution_count": 9,
     "metadata": {},
     "output_type": "execute_result"
    }
   ],
   "source": [
    "# Let's pretend the spam includes the list ['a', 'b', 'c', 'd'] for the next three queries.\n",
    "spam=['a','b','c','d']\n",
    "\n",
    "### 3. What is the value of spam[int(int('3' * 2) / 11)]?\n",
    "# Ans:\n",
    "spam[int(int('3'*2)/11)]\n",
    "# here we used type casting and str concatination."
   ]
  },
  {
   "cell_type": "code",
   "execution_count": 12,
   "id": "548fabf7",
   "metadata": {},
   "outputs": [
    {
     "data": {
      "text/plain": [
       "'d'"
      ]
     },
     "execution_count": 12,
     "metadata": {},
     "output_type": "execute_result"
    }
   ],
   "source": [
    "### 4. What is the value of spam[-1]?\n",
    "#Ans:\n",
    "# The value of spam[-1] is:\n",
    "# so basically list indexes start from -1 from the last and it goes like -2,-3,-4...\n",
    "spam[-1]"
   ]
  },
  {
   "cell_type": "code",
   "execution_count": 13,
   "id": "2a20094f",
   "metadata": {},
   "outputs": [
    {
     "data": {
      "text/plain": [
       "['a', 'b']"
      ]
     },
     "execution_count": 13,
     "metadata": {},
     "output_type": "execute_result"
    }
   ],
   "source": [
    "### 5. What is the value of spam[:2]?\n",
    "# Ans:\n",
    "# in list ['lower bound: upper bound']so we can extract specific sequence from the list.\n",
    "spam[:2]"
   ]
  },
  {
   "cell_type": "code",
   "execution_count": 1,
   "id": "e7c6b67c",
   "metadata": {},
   "outputs": [
    {
     "data": {
      "text/plain": [
       "1"
      ]
     },
     "execution_count": 1,
     "metadata": {},
     "output_type": "execute_result"
    }
   ],
   "source": [
    "#Let's pretend bacon has the list [3.14, 'cat,' 11, 'cat,' True] for the next three questions.\n",
    "bacon=[3.14,'cat',11,'cat',True]\n",
    "\n",
    "\n",
    "### 6. What is the value of bacon.index('cat')?\n",
    "#Ans:\n",
    "# with the help of index function we can find the index number of a perticular value.\n",
    "bacon.index('cat')"
   ]
  },
  {
   "cell_type": "code",
   "execution_count": 2,
   "id": "8376f287",
   "metadata": {},
   "outputs": [
    {
     "data": {
      "text/plain": [
       "[3.14, 'cat', 11, 'cat', True, 99]"
      ]
     },
     "execution_count": 2,
     "metadata": {},
     "output_type": "execute_result"
    }
   ],
   "source": [
    "### 7. How does bacon.append(99) change the look of the list value in bacon?\n",
    "#Ans:\n",
    "# to add new values in the list we can use append() or insert function.\n",
    "bacon.append(99)\n",
    "bacon"
   ]
  },
  {
   "cell_type": "code",
   "execution_count": 3,
   "id": "c745299f",
   "metadata": {},
   "outputs": [
    {
     "data": {
      "text/plain": [
       "[3.14, 11, 'cat', True, 99]"
      ]
     },
     "execution_count": 3,
     "metadata": {},
     "output_type": "execute_result"
    }
   ],
   "source": [
    "### 8. How does bacon.remove('cat') change the look of the list in bacon?\n",
    "#Ans:\n",
    "# to remove values from the list we can use eigther pop() or remove() function.\n",
    "bacon.remove('cat')\n",
    "bacon"
   ]
  },
  {
   "cell_type": "code",
   "execution_count": 21,
   "id": "ea1ce691",
   "metadata": {},
   "outputs": [
    {
     "name": "stdout",
     "output_type": "stream",
     "text": [
      "list_concatenation : [1, 2, 3, 5, 6, 7]\n",
      "list_replication :  ['ineuron', 'python', 'ineuron', 'python', 'ineuron', 'python', 'ineuron', 'python']\n"
     ]
    }
   ],
   "source": [
    "### 9. What are the list concatenation and list replication operators?\n",
    "#Ans:\n",
    "\n",
    "# 1]list concatenation[+]:\n",
    "# we use + operator to do list concatenation.\n",
    "l=[1,2,3]\n",
    "l1=[5,6,7]\n",
    "list_concatenation=l+l1\n",
    "print('list_concatenation :',list_concatenation)\n",
    "\n",
    "# 2] list replication[*]:\n",
    "# we use list replication to multiply the values of it.\n",
    "m=['ineuron','python']\n",
    "list_replication=m*4\n",
    "print('list_replication : ',list_replication)"
   ]
  },
  {
   "cell_type": "code",
   "execution_count": 5,
   "id": "077432a8",
   "metadata": {},
   "outputs": [
    {
     "data": {
      "text/plain": [
       "[1, 2, 3, 4, 'ineuron']"
      ]
     },
     "execution_count": 5,
     "metadata": {},
     "output_type": "execute_result"
    }
   ],
   "source": [
    "### 10. What is difference between the list methods append() and insert()?\n",
    "# Ans:\n",
    "# we can append() and insert() to  add the values inside the list.\n",
    "# 1] append()\n",
    "\"\"\"\n",
    "append generally add values at the last in the current list.\n",
    "in append function we need to set one argument and we cant pass more than one argument.\n",
    "we can use append function to create new list from the current list .\n",
    "lets understand it with the help of example.\"\"\"\n",
    "l11=[1,2,3,4]\n",
    "l11.append('ineuron')\n",
    "l11\n",
    "\n"
   ]
  },
  {
   "cell_type": "code",
   "execution_count": 6,
   "id": "0084d70c",
   "metadata": {},
   "outputs": [
    {
     "data": {
      "text/plain": [
       "[1, 2, 'ineuron', 3, 4]"
      ]
     },
     "execution_count": 6,
     "metadata": {},
     "output_type": "execute_result"
    }
   ],
   "source": [
    "# 2] insert()\n",
    "\"\"\"insert() function can be used to add the values at specific index.\n",
    "in insert we need to set two argument one is from the index number and the next is for value we want to add.\n",
    "lets understand it wth the example.\"\"\"\n",
    "\n",
    "l22=[1,2,3,4]\n",
    "l22.insert(2,'ineuron')\n",
    "l22"
   ]
  },
  {
   "cell_type": "code",
   "execution_count": 1,
   "id": "622aa595",
   "metadata": {},
   "outputs": [
    {
     "data": {
      "text/plain": [
       "[1, 2, 4]"
      ]
     },
     "execution_count": 1,
     "metadata": {},
     "output_type": "execute_result"
    }
   ],
   "source": [
    "### 11. What are the two methods for removing items from a list?\n",
    "#Ans:\n",
    "#there are two function used to remove items from the list\n",
    "#1.pop()\n",
    "#2.remove()\n",
    "# 1] pop() # pop( index)\n",
    "# by default pop()removes last index but we can mention index number of that perticular value we want to remove.\n",
    "# lets understand it by example:\n",
    "l=[1,2,3,4,5]\n",
    "l.pop()\n",
    "# if we didnt mention the index number by default it will remove the last number\n",
    "l\n",
    "l.pop(2)\n",
    "l\n",
    "# here it romove the last item and the 2 nd item."
   ]
  },
  {
   "cell_type": "code",
   "execution_count": 2,
   "id": "e29cb66c",
   "metadata": {},
   "outputs": [
    {
     "data": {
      "text/plain": [
       "[1, 2, 3, 4, 5, 88, 6]"
      ]
     },
     "execution_count": 2,
     "metadata": {},
     "output_type": "execute_result"
    }
   ],
   "source": [
    "# 2] remove(item):\n",
    "# in remove function we need to pass the item or value as argument.\n",
    "# remove is more convenient than the pop() .\n",
    "b=[1,2,3,4,5,'ineuron',88,6]\n",
    "b.remove('ineuron')\n",
    "b"
   ]
  },
  {
   "cell_type": "code",
   "execution_count": 15,
   "id": "5f51b647",
   "metadata": {},
   "outputs": [],
   "source": [
    "### 12. Describe how list values and string values are identical.\n",
    "#Ans:\n",
    "l=[1,2,3,4,'pritam','ineuron',34,32]\n",
    "s='ffdhfjdsh'\n",
    "# lists and strings are have similarities as well as differences.\n",
    "# # similarities:\n",
    "    # sequence: both types stored sequence of data.\n",
    "    # slicing: slising can be possible in both data type.\n",
    "    # iteration:in for loop or while loop both are working same.\n",
    "    # len(): len() function can work in both types.\n",
    "    \n",
    "# # differences:\n",
    "    # list can store different types of data like int(),float(),str(),even another list and tuples.\n",
    "      # but string can stored only strings.we can store int with the help of  type conversion.\n",
    "    # list is mutable so we can modify it as per the requirement.\n",
    "      #but string is immutable and we cant modify it we can create new string by current data\n",
    "      #but the orginal string will remains the same.\n",
    "    # list has many functions like append,inserrt,pop,remove.\n",
    "      # string has some function like replace,split,join.\n",
    "        \n"
   ]
  },
  {
   "cell_type": "code",
   "execution_count": 3,
   "id": "11917cfd",
   "metadata": {},
   "outputs": [],
   "source": [
    "### 13. What's the difference between tuples and lists?\n",
    "# Ans:\n",
    "# lists and tuples are bothe squencial data types and both have many similarities.\n",
    "# the only difference in lists and tuples is, list is mutable and tuples are not.\n",
    "# it means we cannot modify tuples like list...tuples are like constant vakues stored in a container.\n",
    "\n",
    "# 1] lists:\n",
    "# in python there are lots of function available to modify a list but not for the tuple.\n",
    "ll=[1,2,3,4,5]\n",
    "# to modify the list we have \n",
    "# ll.[append,insert,pop,remove,reverse,count,copy,extend]\n",
    "\n",
    "# 2] tuple:\n",
    "# tuples are immutable so we cant modify it.once it is excuted it wont change.\n",
    "# tuples have very less functions as compared to list.\n",
    "tt=(9,8,7,6)\n",
    "# with tuples we can perform only two functions:\n",
    "# tt.(count,index)"
   ]
  },
  {
   "cell_type": "code",
   "execution_count": 4,
   "id": "15c36dc1",
   "metadata": {},
   "outputs": [
    {
     "data": {
      "text/plain": [
       "42"
      ]
     },
     "execution_count": 4,
     "metadata": {},
     "output_type": "execute_result"
    }
   ],
   "source": [
    "### 14. How do you type a tuple value that only contains the integer 42?\n",
    "#Ans:\n",
    "T=(42)\n",
    "# it is possible to pass only one argument in a tuple.\n",
    "T"
   ]
  },
  {
   "cell_type": "code",
   "execution_count": 9,
   "id": "a9ab2f53",
   "metadata": {},
   "outputs": [
    {
     "name": "stdout",
     "output_type": "stream",
     "text": [
      "from list to tuple: b (11, 22, 33, 44)\n",
      "from tuple to list: B [99, 88, 77, 66]\n"
     ]
    }
   ],
   "source": [
    "### 15. How do you get a list value's tuple form? How do you get a tuple value's list form?\n",
    "#Ans:\n",
    "# so this is basically type casting and it is possible to make a tuple into list and viceversa.\n",
    "# we have a list as:\n",
    "a=[11,22,33,44]\n",
    "# we can convert it to tuple.\n",
    "b=tuple(a)\n",
    "print('from list to tuple: b',b)\n",
    "\n",
    "# now we have a tuple:\n",
    "A=(99,88,77,66)\n",
    "# we can convert it into a list\n",
    "B=list(A)\n",
    "print('from tuple to list: B',B)"
   ]
  },
  {
   "cell_type": "code",
   "execution_count": 13,
   "id": "73a14f08",
   "metadata": {},
   "outputs": [
    {
     "data": {
      "text/plain": [
       "[1, 2, 3, 'python', 5]"
      ]
     },
     "execution_count": 13,
     "metadata": {},
     "output_type": "execute_result"
    }
   ],
   "source": [
    "### 16. Variables that \"contain\" list values are not necessarily lists themselves. Instead, what do they contain?\n",
    "#Ans:\n",
    "# list is mutable so we can modify it whenever we want so the values in the list are not actual values instaed they are the references of that perticular values.\n",
    "# so basically list contains refences not the values.\n",
    "# lets understand it by example:\n",
    "l111=[1,2,3,4,5]\n",
    "# now we will replace 3rd index value with 'python', for that we will remove 3rd value and add 'python'.\n",
    "\n",
    "l111.pop(3)# 3rd index is 4.\n",
    "l111\n",
    "l111.insert(3,'python')\n",
    "l111\n",
    "# value 4 is removed from the list and python is added."
   ]
  },
  {
   "cell_type": "code",
   "execution_count": 14,
   "id": "e17c29e0",
   "metadata": {},
   "outputs": [],
   "source": [
    "### 17. How do you distinguish between copy.copy() and copy.deepcopy()?\n",
    "#Ans:\n",
    " # copy.copy():\n",
    "    # this function keeps a shallow copy of an object and whatever changes made in the original or in the copied object will be affected in both the object.\n",
    "    # it keeps same nested object thats why the copied object has the reference to th original object.\n",
    "    \n",
    " # copy.deepcopy():\n",
    "    # this function keeps a separate nested object into the copied object.\n",
    "    # changes made in the copied object wont affect on original object or vice-versa.\n",
    "    # it creates recursive copies of all nested object so resulting in indeoendent copies."
   ]
  },
  {
   "cell_type": "code",
   "execution_count": null,
   "id": "87bdd360",
   "metadata": {},
   "outputs": [],
   "source": []
  }
 ],
 "metadata": {
  "kernelspec": {
   "display_name": "Python 3 (ipykernel)",
   "language": "python",
   "name": "python3"
  },
  "language_info": {
   "codemirror_mode": {
    "name": "ipython",
    "version": 3
   },
   "file_extension": ".py",
   "mimetype": "text/x-python",
   "name": "python",
   "nbconvert_exporter": "python",
   "pygments_lexer": "ipython3",
   "version": "3.10.9"
  }
 },
 "nbformat": 4,
 "nbformat_minor": 5
}
