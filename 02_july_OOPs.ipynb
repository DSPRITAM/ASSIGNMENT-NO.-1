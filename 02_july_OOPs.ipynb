{
 "cells": [
  {
   "cell_type": "markdown",
   "id": "047e957f",
   "metadata": {},
   "source": [
    "# 02_july_OOPs:"
   ]
  },
  {
   "cell_type": "code",
   "execution_count": 1,
   "id": "2b36085b",
   "metadata": {},
   "outputs": [],
   "source": [
    "### 1. Explain what inheritance is in object-oriented programming and why it is used.\n",
    "\n",
    "# Ans:\n",
    "# Inheritance is fundamental concept,\n",
    "    # with the help of that we can use methods and behaviour of one class in the other class.\n",
    "# it enables creation of hierarchy to classes where,\n",
    "    # subclasses inherit the characteristics of their parent classes.\n",
    "# The class from which other class inherit is called base class or parent class, \n",
    "    # and the other class is called child class or derived class or sub class.\n",
    "    \n",
    "# For following reason inheritance is used in OOPs.\n",
    "# 1. code reusability:\n",
    "    # Inheritance promotes code reusability, we just need to specify characteristics in the base class\n",
    "        # and we can use it multiple times in the sub classe.\n",
    "        \n",
    "# 2. Modularity and Organisation:\n",
    "    # it becomes easy to understand the code and read the code when we use inheritance.\n",
    "    # it avoid repeatablity, which enables easy to organise.\n",
    "    \n",
    "# 3. Polymorphism:\n",
    "    # Inheritance allows object of different classes to be treated as a one object.\n",
    "    # it becomes easy to use the atributes and methods in different classes.\n",
    "    \n",
    "# 4. overriding:\n",
    "    # Inheritance allows subclasses to override the methods of the super methods withut diturbing the program."
   ]
  },
  {
   "cell_type": "code",
   "execution_count": 2,
   "id": "acfd31d1",
   "metadata": {},
   "outputs": [],
   "source": [
    "### 2. Discuss the concept of single inheritance and multiple inheritance, highlighting their\n",
    "    # differences and advantages.\n",
    "    \n",
    "# Ans:\n",
    "# 1. single inheritance:\n",
    "    # single inheritance uses only one superclass \n",
    "    # single inheritance is easy to understand and organise, only one superclass is used to it becomes \n",
    "        # easy to read the code and organise it.\n",
    "    # advantages:\n",
    "    # it use only one superclass so it become easy to understand the code.\n",
    "    # the relation between the classes is linear,so it is easy to read and use.\n",
    "    \n",
    "# 2. multiple inheritance:\n",
    "    # multiple inheritance has more than one superclass used in a program.\n",
    "    # a subclass can extend functionalityby  inheritaning the atributes and methods of every superclass.\n",
    "    # advantages:\n",
    "    # it reduces the length of the program due to code reusability.\n",
    "    # as it can use multiple superclasses of multiple classes it become easy to solve complex problem.\n",
    "    \n",
    "# differences:\n",
    "# the program becomes complex when we use multiple inheritance than the single inheritance.\n",
    "# the diamond problem is a specific issue can occure when we inheritance same superclass from two different classes.\n",
    "# it create more complex when we use same name for the two superclasses."
   ]
  },
  {
   "cell_type": "code",
   "execution_count": 19,
   "id": "83c26fa9",
   "metadata": {},
   "outputs": [
    {
     "name": "stdout",
     "output_type": "stream",
     "text": [
      "The ford mustang.\n",
      "The car comes in blue color.\n"
     ]
    }
   ],
   "source": [
    "### 3. Explain the terms \"base class\" and \"derived class\" in the context of inheritance.\n",
    "\n",
    "# Ans:\n",
    "# 1. base class:\n",
    "    # base class or parent class is a term from which we inheritance superclass in a derived class.\n",
    "    # atributes and methods from a base class can be used in derived class.\n",
    "    # we can use single base class or multiple base class in the derived class.\n",
    "\n",
    "# 2. derived class:\n",
    "    # derived class or sub class is a class in which we inheritance superclass from a base class.\n",
    "    # derived class can have its own atributes and methods but to avoid the code repeatability we use inheritance.\n",
    "    # it increases code reusability and readibility.\n",
    "# lets understand it by example:\n",
    "\n",
    "class Vehical: # this is base class or parent class.\n",
    "    def __init__(self,brand,model):\n",
    "        self.brand = brand\n",
    "        self.model = model\n",
    "        \n",
    "    def info(self):\n",
    "        print(f\"The {self.brand} {self.model}.\")\n",
    "        \n",
    "class Car(Vehical): # Car is a subclass or derived class and Vehical is inheritance.\n",
    "    def __init__(self,brand,model,color):\n",
    "        super().__init__(brand,model) # assigning inheritance.\n",
    "        self.color = color\n",
    "        \n",
    "    def car_info(self):\n",
    "        super().info() # using inheritance for method.\n",
    "        print(f\"The car comes in {self.color} color.\")\n",
    "        \n",
    "car1 = Car(\"ford\",\"mustang\",\"blue\")\n",
    "\n",
    "car1.car_info()"
   ]
  },
  {
   "cell_type": "code",
   "execution_count": 16,
   "id": "731b55de",
   "metadata": {},
   "outputs": [
    {
     "name": "stdout",
     "output_type": "stream",
     "text": [
      "The mahindra Thar comes with Black color.\n"
     ]
    },
    {
     "data": {
      "text/plain": [
       "['_Vehical__color',\n",
       " '__class__',\n",
       " '__delattr__',\n",
       " '__dict__',\n",
       " '__dir__',\n",
       " '__doc__',\n",
       " '__eq__',\n",
       " '__format__',\n",
       " '__ge__',\n",
       " '__getattribute__',\n",
       " '__gt__',\n",
       " '__hash__',\n",
       " '__init__',\n",
       " '__init_subclass__',\n",
       " '__le__',\n",
       " '__lt__',\n",
       " '__module__',\n",
       " '__ne__',\n",
       " '__new__',\n",
       " '__reduce__',\n",
       " '__reduce_ex__',\n",
       " '__repr__',\n",
       " '__setattr__',\n",
       " '__sizeof__',\n",
       " '__str__',\n",
       " '__subclasshook__',\n",
       " '__weakref__',\n",
       " '_model',\n",
       " 'brand',\n",
       " 'info']"
      ]
     },
     "execution_count": 16,
     "metadata": {},
     "output_type": "execute_result"
    }
   ],
   "source": [
    "### 4. What is the significance of the \"protected\" access modifier in inheritance?\n",
    "    # How does it differ from \"private\" and \"public\" modifiers?\n",
    "    \n",
    "# Ans:\n",
    "# protected-access-modifiers:\n",
    "    # protected-access-modifires are protected atributes that is displayed like\"_modifier\" are\n",
    "        # located at the last in the dir list.\n",
    "    # normal member of the program cant use this atribute.\n",
    "    # In the public access modifier it is visible to all the member of the program and class.\n",
    "    # private access modifier is totally private and located at the top of the dir list.\n",
    "# lets understand it by example:\n",
    "\n",
    "class Vehical:\n",
    "    def __init__(self,brand,model,color):\n",
    "        self.brand = brand  # it is public access modifier.\n",
    "                            # it will print at the bottom in dir().\n",
    "        self._model = model # it is protected access modifier.\n",
    "                            # it will print at the bottom in dir().\n",
    "        self.__color = color# it is private access modifier.\n",
    "                            # it will print at the top in dir().\n",
    "        \n",
    "    def info(self):\n",
    "        print(f\"The {self.brand} {self._model} comes with {self.__color} color.\")\n",
    "        \n",
    "vehical1 = Vehical(\"mahindra\",\"Thar\",\"Black\")\n",
    "\n",
    "vehical1.info()\n",
    "\n",
    "dir(vehical1)"
   ]
  },
  {
   "cell_type": "code",
   "execution_count": 7,
   "id": "c6467fb8",
   "metadata": {},
   "outputs": [
    {
     "name": "stdout",
     "output_type": "stream",
     "text": [
      "The one and only tom  and jerry on CN .\n"
     ]
    }
   ],
   "source": [
    "### 5. What is the purpose of the \"super\" keyword in inheritance? Provide an example.\n",
    "\n",
    "# Ans:\n",
    "# super(). keyword is used to inheritance the characteristics of base class to the sun class.\n",
    "# when we use super() then there is no need to define the atributes and characterics of base class.\n",
    "# super can have single or multiple atributes in one parenthesis.\n",
    "# lets understand it by example:\n",
    "\n",
    "class Cartoon: # create a class name as a Cartoon. it is base class.\n",
    "    def __init__(self,channel): # pass the atribute as channel.\n",
    "        self.channel = channel\n",
    "        pass   # pass the class.\n",
    "    \n",
    "class Tom_jerry(Cartoon):   # create a class as Tom_jerry. this is sub class.\n",
    "    def __init__(self,channel,cat,mouse):\n",
    "        super().__init__(channel) # inherit the atribute of base class.\n",
    "        self.cat = cat\n",
    "        self.mouse = mouse\n",
    "        \n",
    "    def info(self):\n",
    "        print(f\"The one and only {self.cat}  and {self.mouse} on {self.channel} .\")\n",
    "        \n",
    "cartoon1 = Tom_jerry(\"CN\",\"tom\",\"jerry\")\n",
    "cartoon1.info()"
   ]
  },
  {
   "cell_type": "code",
   "execution_count": 11,
   "id": "0251a2dd",
   "metadata": {},
   "outputs": [
    {
     "name": "stdout",
     "output_type": "stream",
     "text": [
      "The TATA Harrier is made in 2018.\n",
      "It is available in petrol and diesel\n"
     ]
    }
   ],
   "source": [
    "### 6. Create a base class called \"Vehicle\" with attributes like \"make\", \"model\", and \"year\".\n",
    "    #Then, create a derived class called \"Car\" that inherits from \"Vehicle\" and adds an\n",
    "    #attribute called \"fuel_type\". Implement appropriate methods in both classes.\n",
    "    \n",
    "# Ans:\n",
    "# create a base class as a Vehical.\n",
    "class Vehical:\n",
    "    def __init__(self,make,model,year):# atributes of a base class.\n",
    "        self.make = make\n",
    "        self.model = model\n",
    "        self.year = year\n",
    "        \n",
    "    def Vehical_info(self):\n",
    "        print(f\"The {self.make} {self.model} is made in {self.year}.\")\n",
    "        \n",
    "        \n",
    "# create a sub class as a Car.        \n",
    "class Car(Vehical):\n",
    "    def __init__(self,make,model,year,fuel_type): # add one atribute fuel_type.\n",
    "        super().__init__(make,model,year)\n",
    "        self.fuel_type = fuel_type\n",
    "        \n",
    "    def Car_info(self): # method.\n",
    "        super().Vehical_info()\n",
    "        print(f\"It is available in {self.fuel_type}\")\n",
    "        \n",
    "car1 = Car(\"TATA\",\"Harrier\",\"2018\",\"petrol and diesel\")\n",
    "car1.Car_info()"
   ]
  },
  {
   "cell_type": "code",
   "execution_count": 18,
   "id": "b7f4bb90",
   "metadata": {},
   "outputs": [
    {
     "name": "stdout",
     "output_type": "stream",
     "text": [
      "If Pritam joins HR department, he will have 10LPA.\n",
      "If Pritam knows about Pyhton and SQL, then he will have 12LPA\n"
     ]
    }
   ],
   "source": [
    "### 7. Create a base class called \"Employee\" with attributes like \"name\" and \"salary.\"\n",
    "    # Derive two classes, \"Manager\" and \"Developer,\" from \"Employee.\" Add an additional\n",
    "    # attribute called \"department\" for the \"Manager\" class and \"programming_language\"\n",
    "    # for the \"Developer\" class.\n",
    "    \n",
    "# Ans:\n",
    "\n",
    "# create a base class:\n",
    "class Employee:\n",
    "    def __init__(self,name,salary):\n",
    "        self.name = name\n",
    "        self.salary = salary\n",
    "        pass\n",
    "    \n",
    "# create 1st sub class:\n",
    "class Manager(Employee):\n",
    "    def __init__(self,name,salary,department):\n",
    "        super().__init__(name,salary)\n",
    "        self.department = department\n",
    "        \n",
    "    def Manager_info(self):\n",
    "        print(f\"If {self.name} joins {self.department} department, he will have {self.salary}.\")\n",
    "        \n",
    "# create 2nd sub_class.       \n",
    "class Developer(Employee):\n",
    "    def __init__(self,name,salary,programming_language):\n",
    "        super().__init__(name,salary)\n",
    "        self.programming_language = programming_language\n",
    "        \n",
    "    def Developer_info(self):\n",
    "        print(f\"If {self.name} knows about {self.programming_language}, then he will have {self.salary}\")\n",
    "        \n",
    "        \n",
    "manager1 = Manager(\"Pritam\",\"10LPA\",\"HR\")\n",
    "manager1.Manager_info()\n",
    "\n",
    "developer1 = Developer(\"Pritam\",\"12LPA\",\"Pyhton and SQL\")\n",
    "developer1.Developer_info()"
   ]
  },
  {
   "cell_type": "code",
   "execution_count": 23,
   "id": "4a46469c",
   "metadata": {},
   "outputs": [
    {
     "name": "stdout",
     "output_type": "stream",
     "text": [
      "make a rectangle of 60 *40 mm in Green colour with 0.4mm border_width.\n",
      "Make a circle of 30 mm in Blue colour with 0.2mm border_width.\n"
     ]
    }
   ],
   "source": [
    "### 8. Design a base class called \"Shape\" with attributes like \"colour\" and \"border_width.\"\n",
    "    # Create derived classes, \"Rectangle\" and \"Circle,\" that inherit from \"Shape\" and add\n",
    "    # specific attributes like \"length\" and \"width\" for the \"Rectangle\" class and \"radius\" for\n",
    "    # the \"Circle\" class.\n",
    "    \n",
    "# Ans:\n",
    "# create a base class:\n",
    "class Shape:\n",
    "    def __init__(self,colour,border_width): # pass the atributes.\n",
    "        self.colour = colour\n",
    "        self.border_width = border_width\n",
    "        pass\n",
    "\n",
    "# create a derived class.\n",
    "class Rectangle(Shape):\n",
    "    def __init__(self,colour,border_width,length,width):\n",
    "        super().__init__(colour,border_width)\n",
    "        self.length = length\n",
    "        self.width = width\n",
    "        \n",
    "    def create_rectangle(self):\n",
    "        print(f\"make a rectangle of {self.length} *{self.width} mm in {self.colour} colour with {self.border_width}mm border_width.\")\n",
    "\n",
    "# 2nd derived class.\n",
    "class Circle(Shape):\n",
    "    def __init__(self,colour,border_width,radius):\n",
    "        super().__init__(colour,border_width)\n",
    "        self.radius = radius\n",
    "        \n",
    "    def create_circle(self):\n",
    "        print(f\"Make a circle of {self.radius} mm in {self.colour} colour with {self.border_width}mm border_width.\")\n",
    "        \n",
    "# create a object for rectangle class.        \n",
    "rect = Rectangle(\"Green\",\"0.4\",\"60\",\"40\")\n",
    "rect.create_rectangle()\n",
    "\n",
    "# create a objet for circle class.\n",
    "cir = Circle(\"Blue\",\"0.2\",\"30\")\n",
    "cir.create_circle()"
   ]
  },
  {
   "cell_type": "code",
   "execution_count": 31,
   "id": "447ac700",
   "metadata": {},
   "outputs": [
    {
     "name": "stdout",
     "output_type": "stream",
     "text": [
      "The Apple, iphone-15 has 6'  super amoled display.\n",
      "The Samsung, notepad-7 has very good battery back-up and it comes with 10000mah.\n"
     ]
    }
   ],
   "source": [
    "### 9. Create a base class called \"Device\" with attributes like \"brand\" and \"model.\" Derive\n",
    "    # two classes, \"Phone\" and \"Tablet,\" from \"Device.\" Add specific attributes like\n",
    "    # \"screen_size\" for the \"Phone\" class and \"battery_capacity\" for the \"Tablet\" class.\n",
    "    \n",
    "# Ans:\n",
    "class Device:\n",
    "    def __init__(self,brand,model):\n",
    "        self.brand = brand\n",
    "        self.model = model\n",
    "        pass\n",
    "    \n",
    "class Phone(Device):\n",
    "    def __init__(self,brand,model,screen_size):\n",
    "        super().__init__(brand,model)\n",
    "        self.screen_size = screen_size\n",
    "        \n",
    "    def info(self):\n",
    "        print(f\"The {self.brand}, {self.model} has {self.screen_size}  super amoled display.\")\n",
    "        \n",
    "class Tablet(Device):\n",
    "    def __init__(self,brand,model,battery_capacity):\n",
    "        super().__init__(brand,model)\n",
    "        self.battery_capacity = battery_capacity\n",
    "        \n",
    "    def tablet_info(self):\n",
    "        print(f\"The {self.brand}, {self.model} has very good battery back-up and it comes with {self.battery_capacity}.\")\n",
    "        \n",
    "\n",
    "        \n",
    "        \n",
    "phone1 = Phone(\"Apple\",'iphone-15',\"6'\")\n",
    "phone1.info()\n",
    "\n",
    "tab = Tablet(\"Samsung\",\"notepad-7\",'10000mah')\n",
    "tab.tablet_info()"
   ]
  },
  {
   "cell_type": "code",
   "execution_count": 7,
   "id": "86c4d95f",
   "metadata": {},
   "outputs": [
    {
     "data": {
      "text/plain": [
       "('The consumer will receive', 6000.0, 'rupees as a interest.')"
      ]
     },
     "execution_count": 7,
     "metadata": {},
     "output_type": "execute_result"
    }
   ],
   "source": [
    "### 10. Create a base class called \"BankAccount\" with attributes like \"account_number\" and\n",
    "    # \"balance.\" Derive two classes, \"SavingsAccount\" and \"CheckingAccount,\" from\n",
    "    # \"BankAccount.\" Add specific methods like \"calculate_interest\" for the\n",
    "    # \"SavingsAccount\" class and \"deduct_fees\" for the \"CheckingAccount\" class.\n",
    "    \n",
    "# Ans:\n",
    "# create a base class.\n",
    "class BankAccount:\n",
    "    def __init__(self,account_number,balance):\n",
    "        self.account_number = account_number\n",
    "        self.balance = balance\n",
    "        pass\n",
    "\n",
    "    \n",
    "# create a sub class as a Saving_Account:    \n",
    "class Saving_Account(BankAccount):\n",
    "    def __init__(self,account_number,balance):\n",
    "        super().__init__(account_number,balance)\n",
    "    \n",
    "    def Calculate_interest(self,interest_per_annum):\n",
    "        return \"The consumer will receive\",self.balance * interest_per_annum / 100, \"rupees as a interest.\"\n",
    "        \n",
    "# create a object as a sav.    \n",
    "sav = Saving_Account('35466',50000) \n",
    "sav.Calculate_interest(12)"
   ]
  },
  {
   "cell_type": "code",
   "execution_count": 15,
   "id": "77bb9522",
   "metadata": {},
   "outputs": [
    {
     "data": {
      "text/plain": [
       "('Balance after deducting checking charges in rupees', 2925)"
      ]
     },
     "execution_count": 15,
     "metadata": {},
     "output_type": "execute_result"
    }
   ],
   "source": [
    "# create a sub class as a Checking_Account:\n",
    "class Checking_Account(BankAccount):\n",
    "    def __init__(self,account_number,balance):\n",
    "        super().__init__(account_number,balance)\n",
    "        \n",
    "    def deduct_fees(self,charges):\n",
    "        return \"Balance after deducting checking charges in rupees\", self.balance - charges\n",
    "\n",
    "# create a object as a checking:\n",
    "checking = Checking_Account(\"9090909999\",3000)\n",
    "checking.deduct_fees(75)"
   ]
  },
  {
   "cell_type": "code",
   "execution_count": null,
   "id": "5c6224f5",
   "metadata": {},
   "outputs": [],
   "source": []
  }
 ],
 "metadata": {
  "kernelspec": {
   "display_name": "Python 3 (ipykernel)",
   "language": "python",
   "name": "python3"
  },
  "language_info": {
   "codemirror_mode": {
    "name": "ipython",
    "version": 3
   },
   "file_extension": ".py",
   "mimetype": "text/x-python",
   "name": "python",
   "nbconvert_exporter": "python",
   "pygments_lexer": "ipython3",
   "version": "3.10.9"
  }
 },
 "nbformat": 4,
 "nbformat_minor": 5
}
