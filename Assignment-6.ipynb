{
 "cells": [
  {
   "cell_type": "code",
   "execution_count": 22,
   "id": "e410b207",
   "metadata": {},
   "outputs": [
    {
     "name": "stdout",
     "output_type": "stream",
     "text": [
      "['False', 'None', 'True', 'and', 'as', 'assert', 'async', 'await', 'break', 'class', 'continue', 'def', 'del', 'elif', 'else', 'except', 'finally', 'for', 'from', 'global', 'if', 'import', 'in', 'is', 'lambda', 'nonlocal', 'not', 'or', 'pass', 'raise', 'return', 'try', 'while', 'with', 'yield']\n"
     ]
    }
   ],
   "source": [
    "### Q.1. What are keywords in python? Using the keyword library, print all the python keywords.\n",
    "\n",
    "#Ans:\n",
    "# keywords are default words in python which perform dedicated operation.\n",
    "# we cant use keyword for another opertaion even as a variable.\n",
    "# there are total 35 keywords in python.and each of then have separate and dedicated task to do.\n",
    "\n",
    "import keyword\n",
    "#first we need to import the keyword library.\n",
    "print(keyword.kwlist)\n",
    "# wuth the the help of .kwlist we can get every keyword in a list."
   ]
  },
  {
   "cell_type": "code",
   "execution_count": null,
   "id": "ade4b985",
   "metadata": {},
   "outputs": [],
   "source": [
    "### Q.2. What are the rules to create variables in python?\n",
    "#Ans:\n",
    "\n",
    "\"\"\" Following are the rules to create variable in python:\n",
    "1. variable cannot be start with number.\n",
    "2. variable cannot be start with special character except'_' underscore.\n",
    "3. python is a case sensitive so it can differentiate between small and capital letters.\n",
    "4. cannot use keywords as a variable.\"\"\""
   ]
  },
  {
   "cell_type": "code",
   "execution_count": null,
   "id": "a596f621",
   "metadata": {},
   "outputs": [],
   "source": [
    "### Q.3. What are the standards and conventions followed for the nomenclature of variables in\n",
    "#python to improve code readability and maintainability?\n",
    "\n",
    "#Ans:\n",
    "\"\"\"\n",
    "1. try to use name as variable when possible with the underscore avoid space( ), underscore(_)makes it one word and stored it one place.\n",
    "2. try not to use keyword as a variable for that keywords are colored in green so we can identify it.\n",
    "3. python is case sensitive so use it properly.\n",
    "4. use # to add text which will not take part in the code and help it to understand the code.\n",
    "5. use(\"\"\"multiline\"\"\") to pass the multiline comments.\n",
    "6. use '\\n'for next line.\n",
    "7. use ' ' blank space for inline.\"\"\"\n"
   ]
  },
  {
   "cell_type": "code",
   "execution_count": 1,
   "id": "eedd6bb2",
   "metadata": {
    "scrolled": true
   },
   "outputs": [
    {
     "ename": "SyntaxError",
     "evalue": "cannot assign to True (540598385.py, line 5)",
     "output_type": "error",
     "traceback": [
      "\u001b[1;36m  Cell \u001b[1;32mIn[1], line 5\u001b[1;36m\u001b[0m\n\u001b[1;33m    True = 10\u001b[0m\n\u001b[1;37m    ^\u001b[0m\n\u001b[1;31mSyntaxError\u001b[0m\u001b[1;31m:\u001b[0m cannot assign to True\n"
     ]
    }
   ],
   "source": [
    "### Q.4. What will happen if a keyword is used as a variable name?\n",
    "\n",
    "#Ans:\n",
    "# we will use 'True' keyword as a variable.\n",
    "True = 10\n",
    "print(True)\n",
    "# it is showing syntax error as 'cannot assign to True.'"
   ]
  },
  {
   "cell_type": "code",
   "execution_count": 2,
   "id": "9a98866b",
   "metadata": {},
   "outputs": [
    {
     "data": {
      "text/plain": [
       "11"
      ]
     },
     "execution_count": 2,
     "metadata": {},
     "output_type": "execute_result"
    }
   ],
   "source": [
    "### Q.5. For what purpose def keyword is used?\n",
    "\n",
    "#Ans:\n",
    "# \"def\" keyword is used to define a user-defined-function.\n",
    "# in python two types of function are available built-in-function and user-defined-function.\n",
    "# lets understand it by example:\n",
    "\n",
    "def addition(x,y):\n",
    "    return x+y\n",
    "\n",
    "addition(4,7)#(4+7=11)\n",
    "# we created a new function as a 'addition' which perform addition operation."
   ]
  },
  {
   "cell_type": "code",
   "execution_count": 5,
   "id": "ba1c8781",
   "metadata": {},
   "outputs": [],
   "source": [
    "### Q.6. What is the operation of this special character ‘\\’?\n",
    "\n",
    "#Ans:\n",
    "# '\\' when we use '\\n' then it can create a new line.\n",
    "# '\\' when we use '\\t' then it is used for represent tab character.\n",
    "# '\\' in nested loops it is very useful to use with '\\n'.\n"
   ]
  },
  {
   "cell_type": "code",
   "execution_count": 25,
   "id": "353e6bed",
   "metadata": {},
   "outputs": [],
   "source": [
    "### Q.7. Give an example of the following conditions:\n",
    "#(i) Homogeneous list\n",
    "#(ii) Heterogeneous set\n",
    "#(iii) Homogeneous tuple\n",
    "\n",
    "#Ans:\n",
    "# (i) Homogeneous list:\n",
    "# A homogeneous list is an list which contains same data type into the list.\n",
    "# example: in this example we have all the values in 'int' data type.\n",
    "\n",
    "l=[2,3,4,5,6]\n",
    "\n",
    "#(ii) Heterogeneous set:\n",
    "# A set becomes hetrogeneous when it contains different kind of data types.\n",
    "# It can be int, str, float.\n",
    "# example: in this set we have str, int and float.\n",
    "\n",
    "set= {'ineuron',34,66.54}\n",
    "\n",
    "#(iii) Homogeneous tuple:\n",
    "# same as a list when the data type in the tuple is same like only str or int or float then it can be called as homogeneous tuple.\n",
    "# example: in this tuple we will have all the values are as str.\n",
    "\n",
    "tuple = ('ineuron','python','sql','fsds')"
   ]
  },
  {
   "cell_type": "code",
   "execution_count": 12,
   "id": "45031a1b",
   "metadata": {},
   "outputs": [
    {
     "data": {
      "text/plain": [
       "[1, 2, 3, 4, 5, 6]"
      ]
     },
     "execution_count": 12,
     "metadata": {},
     "output_type": "execute_result"
    }
   ],
   "source": [
    "### Q.8. Explain the mutable and immutable data types with proper explanation & examples.\n",
    "\n",
    "#Ans:\n",
    "# Mutable data type:\n",
    "# list and dictionary are the two mutable data types.\n",
    "# In mutable data type we can modify the list or dict as per requirement and get the desired output.\n",
    "# when we modify the list or dict it will get replace with the old one.\n",
    "# lists, sets, and dictionary are the mutable data types.\n",
    "# lets understand it by example:\n",
    "\n",
    "# 1] list:\n",
    "l= [1,2,3,4,5]# so first we have a list with the values 1,2,3,4,5.\n",
    "l.append(6)# we added 6 by using append function.\n",
    "l\n",
    "\n"
   ]
  },
  {
   "cell_type": "code",
   "execution_count": 13,
   "id": "5ef114c1",
   "metadata": {},
   "outputs": [
    {
     "data": {
      "text/plain": [
       "{'key1': 'pritam', 'key2': 'kamble', 'key3': 123}"
      ]
     },
     "execution_count": 13,
     "metadata": {},
     "output_type": "execute_result"
    }
   ],
   "source": [
    "# 2] dictionary:\n",
    "dict = {'key1':'pritam','key2':'kamble'}# we have key1 and key2 with the values.\n",
    "dict['key3']=123 # create another key value pair.\n",
    "dict.update() # update it to the orginal dict.\n",
    "dict"
   ]
  },
  {
   "cell_type": "code",
   "execution_count": 19,
   "id": "a1076a4c",
   "metadata": {},
   "outputs": [
    {
     "data": {
      "text/plain": [
       "'ineuron fsds'"
      ]
     },
     "execution_count": 19,
     "metadata": {},
     "output_type": "execute_result"
    }
   ],
   "source": [
    "# immutable data type:\n",
    "# Data types that cant be modified and get replaced with the old one are called immutable data types.\n",
    "# strings, tuples are the examples of immutable data types.\n",
    "# we can create a new data from the old one but the old remains the same.\n",
    "# lets understand it by example:\n",
    "\n",
    "# 1] string:\n",
    "s = 'ineuron'# we can modify it but the orgininal string wont be change.\n",
    "s1=s+ ' fsds'# we can do string concatenation.\n",
    "s1"
   ]
  },
  {
   "cell_type": "code",
   "execution_count": 21,
   "id": "f7f269ea",
   "metadata": {},
   "outputs": [
    {
     "ename": "AttributeError",
     "evalue": "'tuple' object has no attribute 'remove'",
     "output_type": "error",
     "traceback": [
      "\u001b[1;31m---------------------------------------------------------------------------\u001b[0m",
      "\u001b[1;31mAttributeError\u001b[0m                            Traceback (most recent call last)",
      "Cell \u001b[1;32mIn[21], line 3\u001b[0m\n\u001b[0;32m      1\u001b[0m \u001b[38;5;66;03m# 2] tuple:\u001b[39;00m\n\u001b[0;32m      2\u001b[0m t \u001b[38;5;241m=\u001b[39m (\u001b[38;5;241m1\u001b[39m,\u001b[38;5;241m2\u001b[39m,\u001b[38;5;241m3\u001b[39m,\u001b[38;5;241m4\u001b[39m,\u001b[38;5;241m5\u001b[39m)\n\u001b[1;32m----> 3\u001b[0m \u001b[43mt\u001b[49m\u001b[38;5;241;43m.\u001b[39;49m\u001b[43mremove\u001b[49m(\u001b[38;5;241m4\u001b[39m)\n\u001b[0;32m      4\u001b[0m t\n",
      "\u001b[1;31mAttributeError\u001b[0m: 'tuple' object has no attribute 'remove'"
     ]
    }
   ],
   "source": [
    "# 2] tuple:\n",
    "t = (1,2,3,4,5)# here tuple contain 1,2,3,4,5 values.\n",
    "t.remove(4)# try to remove 4 from it.\n",
    "t # it is showing error."
   ]
  },
  {
   "cell_type": "code",
   "execution_count": 3,
   "id": "3e178bc8",
   "metadata": {},
   "outputs": [
    {
     "name": "stdout",
     "output_type": "stream",
     "text": [
      "    *\n",
      "   ***\n",
      "  *****\n",
      " *******\n",
      "*********\n"
     ]
    }
   ],
   "source": [
    "### Q.9. Write a code to create the given structure using only for loop.\n",
    "\n",
    "#Ans:\n",
    "# we will use for loop for this operation.\n",
    "# no.of rows is 5 \n",
    "\n",
    "n = 5\n",
    "\n",
    "for i in range(5):\n",
    "    for j in range(i,n-1):\n",
    "        print(' ',end='')\n",
    "    for j in range(i+1):\n",
    "        print('*',end='')\n",
    "    for j in range(i):\n",
    "        print('*',end='')\n",
    "    print()"
   ]
  },
  {
   "cell_type": "code",
   "execution_count": 4,
   "id": "0641fff2",
   "metadata": {
    "scrolled": false
   },
   "outputs": [
    {
     "name": "stdout",
     "output_type": "stream",
     "text": [
      " |||||||||\n",
      "  |||||||\n",
      "   |||||\n",
      "    |||\n",
      "     |\n"
     ]
    }
   ],
   "source": [
    "### Q.10. Write a code to create the given structure using while loop.\n",
    "\n",
    "#Ans:\n",
    "\n",
    "row = 5\n",
    "spaces = 1\n",
    "while row >= 1:\n",
    "   \n",
    "    print(' ' * spaces + '|' * (2*row - 1))\n",
    "    row -= 1\n",
    "    spaces += 1"
   ]
  },
  {
   "cell_type": "code",
   "execution_count": null,
   "id": "bcdee9bf",
   "metadata": {},
   "outputs": [],
   "source": []
  }
 ],
 "metadata": {
  "kernelspec": {
   "display_name": "Python 3 (ipykernel)",
   "language": "python",
   "name": "python3"
  },
  "language_info": {
   "codemirror_mode": {
    "name": "ipython",
    "version": 3
   },
   "file_extension": ".py",
   "mimetype": "text/x-python",
   "name": "python",
   "nbconvert_exporter": "python",
   "pygments_lexer": "ipython3",
   "version": "3.10.9"
  }
 },
 "nbformat": 4,
 "nbformat_minor": 5
}
