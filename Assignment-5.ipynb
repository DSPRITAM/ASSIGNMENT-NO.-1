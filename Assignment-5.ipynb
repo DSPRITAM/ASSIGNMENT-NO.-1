{
 "cells": [
  {
   "cell_type": "code",
   "execution_count": 3,
   "id": "7e3c00b4",
   "metadata": {},
   "outputs": [
    {
     "data": {
      "text/plain": [
       "dict"
      ]
     },
     "execution_count": 3,
     "metadata": {},
     "output_type": "execute_result"
    }
   ],
   "source": [
    "### 1. What does an empty dictionary's code look like?\n",
    "\n",
    "#Ans:\n",
    "# like the other data types we can even create empty dictionary.\n",
    "empty_dict = {}\n",
    "type(empty_dict)"
   ]
  },
  {
   "cell_type": "code",
   "execution_count": 18,
   "id": "6cd66acc",
   "metadata": {},
   "outputs": [
    {
     "name": "stdout",
     "output_type": "stream",
     "text": [
      "42\n"
     ]
    },
    {
     "data": {
      "text/plain": [
       "dict_values([42])"
      ]
     },
     "execution_count": 18,
     "metadata": {},
     "output_type": "execute_result"
    }
   ],
   "source": [
    "### 2. What is the value of a dictionary value with the key 'foo' and the value 42?\n",
    "\n",
    "#Ans:\n",
    "# we have created a dictionary which contain key as 'foo' and value as a '42'.\n",
    "# we can extract the keys and values from the dict by following ways.\n",
    "#1]\n",
    "dict = {'foo':42}\n",
    "print(dict['foo'])\n",
    "\n",
    "#2]\n",
    "dict.values()"
   ]
  },
  {
   "cell_type": "code",
   "execution_count": 19,
   "id": "9aa57deb",
   "metadata": {},
   "outputs": [
    {
     "data": {
      "text/plain": [
       "'\\n1.structure:\\n    the major difference between the list and dictionary is dictionary has key-value pair and list contains only values.\\n2.indexing:\\n    list has indexing  and every value has a specific number.\\n    but dict works on a key-value pair where keys works as a index number.\\n3.Unique keys:\\n    in list the value can be repititive number of times.\\n    but in dict every key must be unique.\\n4.order:\\n    list stores data in sequence of order.\\n    dict has nothing to do with the order it stores the data randomly.\\n'"
      ]
     },
     "execution_count": 19,
     "metadata": {},
     "output_type": "execute_result"
    }
   ],
   "source": [
    "### 3. What is the most significant distinction between a dictionary and a list?\n",
    "\n",
    "#Ans:\n",
    "\"\"\"\n",
    "1.structure:\n",
    "    the major difference between the list and dictionary is dictionary has key-value pair and list contains only values.\n",
    "2.indexing:\n",
    "    list has indexing  and every value has a specific number.\n",
    "    but dict works on a key-value pair where keys works as a index number.\n",
    "3.Unique keys:\n",
    "    in list the value can be repititive number of times.\n",
    "    but in dict every key must be unique.\n",
    "4.order:\n",
    "    list stores data in sequence of order.\n",
    "    dict has nothing to do with the order it stores the data randomly.\n",
    "\"\"\""
   ]
  },
  {
   "cell_type": "code",
   "execution_count": 21,
   "id": "0b6078e6",
   "metadata": {},
   "outputs": [
    {
     "ename": "KeyError",
     "evalue": "'foo'",
     "output_type": "error",
     "traceback": [
      "\u001b[1;31m---------------------------------------------------------------------------\u001b[0m",
      "\u001b[1;31mKeyError\u001b[0m                                  Traceback (most recent call last)",
      "Cell \u001b[1;32mIn[21], line 7\u001b[0m\n\u001b[0;32m      1\u001b[0m \u001b[38;5;66;03m### 4. What happens if you try to access spam['foo'] if spam is {'bar': 100}?\u001b[39;00m\n\u001b[0;32m      2\u001b[0m \n\u001b[0;32m      3\u001b[0m \u001b[38;5;66;03m#Ans:\u001b[39;00m\n\u001b[0;32m      4\u001b[0m \u001b[38;5;66;03m#first create a dictionary as spam:\u001b[39;00m\n\u001b[0;32m      6\u001b[0m spam \u001b[38;5;241m=\u001b[39m {\u001b[38;5;124m'\u001b[39m\u001b[38;5;124mbar\u001b[39m\u001b[38;5;124m'\u001b[39m:\u001b[38;5;241m100\u001b[39m}\n\u001b[1;32m----> 7\u001b[0m \u001b[43mspam\u001b[49m\u001b[43m[\u001b[49m\u001b[38;5;124;43m'\u001b[39;49m\u001b[38;5;124;43mfoo\u001b[39;49m\u001b[38;5;124;43m'\u001b[39;49m\u001b[43m]\u001b[49m\n",
      "\u001b[1;31mKeyError\u001b[0m: 'foo'"
     ]
    }
   ],
   "source": [
    "### 4. What happens if you try to access spam['foo'] if spam is {'bar': 100}?\n",
    "\n",
    "#Ans:\n",
    "#first create a dictionary as spam:\n",
    "\n",
    "spam = {'bar':100} # in this dict{} we have 'bar' as a key and '100' as a value.\n",
    "spam['foo']\n",
    "# in the current dict{} 'foo' is not mentioned as a 'key'.\n",
    "# thats why it is showing KeyError."
   ]
  },
  {
   "cell_type": "code",
   "execution_count": 27,
   "id": "8c2d0581",
   "metadata": {},
   "outputs": [
    {
     "name": "stdout",
     "output_type": "stream",
     "text": [
      "True\n",
      "False\n"
     ]
    },
    {
     "data": {
      "text/plain": [
       "dict_keys(['cat'])"
      ]
     },
     "execution_count": 27,
     "metadata": {},
     "output_type": "execute_result"
    }
   ],
   "source": [
    "### 5. If a dictionary is stored in spam, what is the difference between the expressions 'cat' in spam and 'cat' in spam.keys()?\n",
    "\n",
    "#Ans:\n",
    "# we create a dictionary as a spam.\n",
    "spam = {'cat':123} # 'key'='cat'and 'value'=123\n",
    "# to check the 'cat' in spam we have keyword 'in'.\n",
    "print('cat' in spam)\n",
    "#  if cat is present in the 'keys' then it will print 'True'.\n",
    "\n",
    "spam1 = {'black':'cat'}\n",
    "print('cat' in spam1)\n",
    "# if its in the spam but not in the keys then it will print \"False\".\n",
    "\n",
    "# to exctract all the keys from the dict we use dict.keys()\n",
    "# here dict{} is spam{} :\n",
    "spam.keys()\n",
    "# this function will only exctract the 'keys' from the items."
   ]
  },
  {
   "cell_type": "code",
   "execution_count": 32,
   "id": "2c28042e",
   "metadata": {},
   "outputs": [
    {
     "name": "stdout",
     "output_type": "stream",
     "text": [
      "True\n",
      "False\n"
     ]
    },
    {
     "data": {
      "text/plain": [
       "dict_values(['cat', 'dog'])"
      ]
     },
     "execution_count": 32,
     "metadata": {},
     "output_type": "execute_result"
    }
   ],
   "source": [
    "### 6. If a dictionary is stored in spam, what is the difference between the expressions 'cat' in spam and 'cat' in spam.values()?\n",
    "\n",
    "#Ans:\n",
    "# first we create a dictionary as a spam.\n",
    "spam = {'cat':123,'dog':555} # 'key'='cat'and 'value'=123\n",
    "# to check the 'cat' in 'keys' we have keyword 'in'.\n",
    "print('cat' in spam)\n",
    "#  if cat is present in the 'keys' then it will print 'True'.\n",
    "\n",
    "spam1 = {'black':'cat'}\n",
    "print('cat' in spam1)\n",
    "# if its in the spam but not in the keys then it will print \"False\".\n",
    "\n",
    "# like the 'keys',  to extract the \"values\" from the dictionary ,we use dict.values().\n",
    "# here dict{} is spam{} so we need to create a dict where 'cat' is a value.\n",
    "spam_ = {'a':'cat','b':'dog'}\n",
    "spam_.values()\n",
    "#This function will only exctract the values from the dict."
   ]
  },
  {
   "cell_type": "code",
   "execution_count": 37,
   "id": "5cd3258e",
   "metadata": {},
   "outputs": [
    {
     "name": "stdout",
     "output_type": "stream",
     "text": [
      "{'a': 123, 'b': 987, 'c': 'ineuron', 'color': 'black'}\n"
     ]
    },
    {
     "data": {
      "text/plain": [
       "'black'"
      ]
     },
     "execution_count": 37,
     "metadata": {},
     "output_type": "execute_result"
    }
   ],
   "source": [
    "### 7. What is a shortcut for the following code?\n",
    "#if 'color' not in spam:\n",
    "#spam['color'] = 'black'\n",
    "\n",
    "#Ans:\n",
    "spam = {'a':123,'b':987,'c':'ineuron'}\n",
    "# First create a imaginary dict as spam.\n",
    "# in the dict we have 'a','b','c' are the 'keys' \n",
    "  # and 123,987,'ineuron' as their respective values.\n",
    "\n",
    "spam.setdefault('color','black')\n",
    "# we have function called \"setdefault()\".\n",
    "# with the help of this function we can modify the dict.\n",
    "# now we have added the 'color'and 'black' as 'key' and 'value'.\n",
    "# to check the dict.we will print it.\n",
    "print(spam)\n",
    "\n",
    "spam['color']\n"
   ]
  },
  {
   "cell_type": "code",
   "execution_count": 41,
   "id": "5d6e0196",
   "metadata": {},
   "outputs": [
    {
     "name": "stdout",
     "output_type": "stream",
     "text": [
      "{'key1': 'value1', 'key2': 'value2', 'key3': {2, 3, 4, 5}}\n"
     ]
    }
   ],
   "source": [
    "### 8. How do you \"pretty print\" dictionary values using which module and function?\n",
    "\n",
    "#Ans:\n",
    "# \"pretty print\" is a module,in which 'pretty print'or 'pprint' is \n",
    "   # a feature used to format the data in a well manner.\n",
    "# 'pprint' is an effective tool to print the data inside the list, set and\n",
    "   # dict to format it in more appealing way.\n",
    "    \n",
    "# first we need to import the 'pprint'module.\n",
    "import pprint\n",
    "\n",
    "dict = {'key1':'value1','key2':'value2','key3':{2,3,4,5}}\n",
    "pprint.pprint(dict)\n"
   ]
  },
  {
   "cell_type": "code",
   "execution_count": null,
   "id": "aa13eef9",
   "metadata": {},
   "outputs": [],
   "source": []
  }
 ],
 "metadata": {
  "kernelspec": {
   "display_name": "Python 3 (ipykernel)",
   "language": "python",
   "name": "python3"
  },
  "language_info": {
   "codemirror_mode": {
    "name": "ipython",
    "version": 3
   },
   "file_extension": ".py",
   "mimetype": "text/x-python",
   "name": "python",
   "nbconvert_exporter": "python",
   "pygments_lexer": "ipython3",
   "version": "3.10.9"
  }
 },
 "nbformat": 4,
 "nbformat_minor": 5
}
