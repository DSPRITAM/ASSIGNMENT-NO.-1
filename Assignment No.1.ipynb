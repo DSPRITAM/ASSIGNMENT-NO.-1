{
 "cells": [
  {
   "cell_type": "markdown",
   "id": "b27224d7",
   "metadata": {},
   "source": [
    "#QUE=1.\n",
    "* = expression\n",
    "'hello' = values\n",
    "-87.8 = values\n",
    "-  = expression\n",
    "/ = expression\n",
    "+ = expression\n",
    "6 = values\n"
   ]
  },
  {
   "cell_type": "markdown",
   "id": "bc7f097b",
   "metadata": {},
   "source": [
    "#QUE=2.\n",
    "String is a specific data that holds specific text.\n",
    "Variable is a named container which can store various types of data like string, integer, expression, float value, boolean etc.\n"
   ]
  },
  {
   "cell_type": "markdown",
   "id": "0d455777",
   "metadata": {},
   "source": [
    "#QUE=3.\n",
    "    \n",
    "1.String.\n",
    "2.Numeric.\n",
    "3.Boolean.\n"
   ]
  },
  {
   "cell_type": "markdown",
   "id": "cb0e254d",
   "metadata": {},
   "source": [
    "#QUE=4.\n",
    "An expression is made up of one or more values, variables, operators and function calls\n",
    "that can be evaluate to produce a output. It represent computation or calculation.\n",
    "Expression can be simple and complex that depends on the structure of involved operators.\n",
    "Expression can be used in various context like assignments, loops, conditional, \n",
    "function argument and many more.\n",
    "Expression are fundamental part of programming as they allow us to perform computations,\n",
    "make decesion and manipulate data based on specific rules and logic."
   ]
  },
  {
   "cell_type": "markdown",
   "id": "0313682d",
   "metadata": {},
   "source": [
    "#QUE=5.\n",
    "Expresssion: An expression is a combination of values, variables, operators and function calls\n",
    "    that evaluates a single value. It can be simple and complex.\n",
    "    \n",
    "    Expression can be used within statements or assigned to variables.\n",
    "    Examples of expression includes 2+3, 2*4, x+y, 10/2.\n",
    "Statement: A statement is a complete line of code that perform a specific action.\n",
    "    It usually consist of keywords, operators and expression.\n",
    "    Examples of statements are if else , for , loop, while, print ().\n",
    "    In this above equation spam = 10 is a statement.\n"
   ]
  },
  {
   "cell_type": "markdown",
   "id": "f45c7074",
   "metadata": {},
   "source": [
    "#QUE=6.\n",
    "The value of the bacon will remain the same as “22”."
   ]
  },
  {
   "cell_type": "markdown",
   "id": "a5509829",
   "metadata": {},
   "source": [
    "#QUE=7.\n",
    "'spam' + 'spamspam' \n",
    "Ans. spamspamspam\n",
    "'spam' * 3\n",
    "Ans. spamspamspam\n"
   ]
  },
  {
   "cell_type": "markdown",
   "id": "6770fde2",
   "metadata": {},
   "source": [
    "#QUE=8.\n",
    "  Ans.  In python variable cannot be start with numeric value or integer or \n",
    "    arithmetic operators except _(underscore),\n",
    "    so that eggs is a valid variable and 100 is not."
   ]
  },
  {
   "cell_type": "markdown",
   "id": "0eb1ea3b",
   "metadata": {},
   "source": [
    "#QUE=9.\n",
    "     1.int() - to get integer value.\n",
    "     2.float() – to get float value.\n",
    "     3.str() – to get string.\n"
   ]
  },
  {
   "cell_type": "markdown",
   "id": "7bbcbd3e",
   "metadata": {},
   "source": [
    "#QUE=10.\n",
    "In this expression ‘I have eaten’ and ‘burritos’ are string and \n",
    "99 is an integer and in python it is not possible to do such addition using + operatos.\n",
    "So we need to make 99 as a string,\n",
    " ‘ I have eaten’ + str(99) + ‘burritos’.\n"
   ]
  }
 ],
 "metadata": {
  "kernelspec": {
   "display_name": "Python 3 (ipykernel)",
   "language": "python",
   "name": "python3"
  },
  "language_info": {
   "codemirror_mode": {
    "name": "ipython",
    "version": 3
   },
   "file_extension": ".py",
   "mimetype": "text/x-python",
   "name": "python",
   "nbconvert_exporter": "python",
   "pygments_lexer": "ipython3",
   "version": "3.10.9"
  }
 },
 "nbformat": 4,
 "nbformat_minor": 5
}
