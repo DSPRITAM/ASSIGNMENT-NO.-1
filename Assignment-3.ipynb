{
 "cells": [
  {
   "cell_type": "markdown",
   "id": "f685754c",
   "metadata": {},
   "source": [
    "# Assignment No: 3"
   ]
  },
  {
   "cell_type": "code",
   "execution_count": null,
   "id": "b009e48f",
   "metadata": {},
   "outputs": [],
   "source": [
    "### 1. Why are functions advantageous to have in your programs?\n",
    "\n",
    "#Ans:\n",
    "# in python there are built-in-function and user-defined-function,\n",
    "# following  are the advantages of having function in python.\n",
    "\"\"\"\n",
    "1. code reusability:\n",
    "    in some cases we need to write the same block of code again and again,\n",
    "    instead of it we can create it into a function and call it whenever we need it.\n",
    "    \n",
    "2. code readiablity:\n",
    "    in complex problem when we use functions,\n",
    "    it becomes so easy to us to understand the program.\n",
    "    \n",
    "3. modularity:\n",
    "    functions provide a way to devide your program into small chunks of a codes.\n",
    "    which can be easy to understand the program.\n",
    "    \n",
    "4. testing and debugging:\n",
    "    it becomes easier to debug he code with the functions,\n",
    "    you have known the input and outputs so less chances of errors.\n",
    "    \"\"\""
   ]
  },
  {
   "cell_type": "code",
   "execution_count": 1,
   "id": "ebc60162",
   "metadata": {},
   "outputs": [
    {
     "name": "stdout",
     "output_type": "stream",
     "text": [
      "\n",
      "multiplication : 30\n"
     ]
    }
   ],
   "source": [
    "### 2. When does the code in a function run: when it's specified or when it's called?\n",
    "\n",
    "#Ans:\n",
    "# the code of function run when we call it.\n",
    "# when we specify a code we actually create a function but doesnt execute it.\n",
    "# once the function is specified ,we can call it whenever required.\n",
    "# lets understand it by example:\n",
    "\n",
    "def mult(a,b): # here we created a function called mult\n",
    "    return a*b # fucntion will do multiplication.\n",
    "\n",
    "\n",
    "print() # it is printing blank.\n",
    "\n",
    "# now we will call the function and print it.\n",
    "c=mult(5,6) \n",
    "print('multiplication :' ,c)"
   ]
  },
  {
   "cell_type": "code",
   "execution_count": 2,
   "id": "c9b0cf35",
   "metadata": {},
   "outputs": [
    {
     "data": {
      "text/plain": [
       "25"
      ]
     },
     "execution_count": 2,
     "metadata": {},
     "output_type": "execute_result"
    }
   ],
   "source": [
    "### 3. What statement creates a function?\n",
    "\n",
    "#Ans:\n",
    "# \"def\" keyword creates a function.\n",
    "# after 'def' we can name anything as a function and after that\n",
    "# we need to pass the input arguments with colon(:).\n",
    "# lets understand it by example:\n",
    "\n",
    "def square(x):  # we use def keyword to define the function name as square and pass the input x.\n",
    "    return x**2 # we want square so in return we type this equation.\n",
    "\n",
    "square(5) # now our code is ready to operate.\n"
   ]
  },
  {
   "cell_type": "code",
   "execution_count": 3,
   "id": "b981c8c9",
   "metadata": {},
   "outputs": [
    {
     "data": {
      "text/plain": [
       "16"
      ]
     },
     "execution_count": 3,
     "metadata": {},
     "output_type": "execute_result"
    }
   ],
   "source": [
    "# there is another way to create a small functions.\n",
    "# 'lambda' keyword is used to create it.\n",
    "# example:\n",
    "\n",
    "sq = lambda x : x**2\n",
    "sq(4)"
   ]
  },
  {
   "cell_type": "code",
   "execution_count": 4,
   "id": "44a9b2b0",
   "metadata": {},
   "outputs": [
    {
     "data": {
      "text/plain": [
       "125"
      ]
     },
     "execution_count": 4,
     "metadata": {},
     "output_type": "execute_result"
    }
   ],
   "source": [
    "### 4. What is the difference between a function and a function call?\n",
    "\n",
    "#Ans:\n",
    "\"\"\"\n",
    "1] function:\n",
    "    -function is a block of code which can be build-in or user-defined.\n",
    "    -user can create a function which will stored into the temporary memory.\n",
    "    -user creates a function to increase the code readiability,nodularity\n",
    "     and it helps in code testing and dubbuging.\n",
    "    -user can create a function but it has no use until we call it.\"\"\"\n",
    "    # example:\n",
    "def cube(y):\n",
    "    return y**3\n",
    "    \n",
    "\"\"\"\n",
    "2] function call:\n",
    "    -function call is actually executing the function user defined.\n",
    "    -without function call the function has no use.\n",
    "    -user creates a function to to save the time and lines of code. \"\"\"\n",
    "    # example: we will call the same fucntion we have created.\n",
    "    \n",
    "cube(5)\n",
    "# we have the result \"cube(5)=125\"."
   ]
  },
  {
   "cell_type": "code",
   "execution_count": 5,
   "id": "4325c5c8",
   "metadata": {},
   "outputs": [
    {
     "name": "stdout",
     "output_type": "stream",
     "text": [
      "16\n",
      "10 20\n"
     ]
    },
    {
     "data": {
      "text/plain": [
       "'\\n2] local scope variable:\\n    -local scope variables are something which comes inside the function and class.\\n    -local scope variables have no specific value, it changes with the functions call.\\n    -every local scope variable is isolated from the other local scope variable and global scope variable.\\n    -local variable is not available outside the function.'"
      ]
     },
     "execution_count": 5,
     "metadata": {},
     "output_type": "execute_result"
    }
   ],
   "source": [
    "### 5. How many global scopes are there in a Python program? How many local scopes?\n",
    "\n",
    "#Ans:\n",
    "# In python there can multiple global and local variables.\n",
    "\"\"\"\n",
    "1] global scope variable:\n",
    "    -global scope variable is a variable located in outermost shell of the fucntion and class.\n",
    "    -global scope variables have specific value and it can be modified.\n",
    "    -only one global scope variable remians same through out the program.\n",
    "    -global scope variable doesnt participate in the functions.\n",
    "    -in the below example x=10 and z=20 are the global scope variables.\"\"\"\n",
    "x=10 # this is global scope variable.\n",
    "z=20 # this is global scope variable.\n",
    "def add(x,z):\n",
    "    return x+z # this x and z are local scope variables.\n",
    "\n",
    "print(add(9,7))\n",
    "print(x,z)\n",
    "\n",
    "\"\"\"\n",
    "2] local scope variable:\n",
    "    -local scope variables are something which comes inside the function and class.\n",
    "    -local scope variables have no specific value, it changes with the functions call.\n",
    "    -every local scope variable is isolated from the other local scope variable and global scope variable.\n",
    "    -local variable is not available outside the function.\"\"\""
   ]
  },
  {
   "cell_type": "code",
   "execution_count": 6,
   "id": "36699cbf",
   "metadata": {},
   "outputs": [
    {
     "name": "stdout",
     "output_type": "stream",
     "text": [
      "9\n"
     ]
    },
    {
     "ename": "NameError",
     "evalue": "name 'p' is not defined",
     "output_type": "error",
     "traceback": [
      "\u001b[1;31m---------------------------------------------------------------------------\u001b[0m",
      "\u001b[1;31mNameError\u001b[0m                                 Traceback (most recent call last)",
      "Cell \u001b[1;32mIn[6], line 14\u001b[0m\n\u001b[0;32m     11\u001b[0m     \u001b[38;5;28;01mreturn\u001b[39;00m p\u001b[38;5;241m*\u001b[39m\u001b[38;5;241m*\u001b[39m\u001b[38;5;241m2\u001b[39m\n\u001b[0;32m     12\u001b[0m \u001b[38;5;28mprint\u001b[39m(sq(\u001b[38;5;241m3\u001b[39m)) \u001b[38;5;66;03m# it is showing the output square of 3 is 9\u001b[39;00m\n\u001b[1;32m---> 14\u001b[0m \u001b[38;5;28mprint\u001b[39m(\u001b[43mp\u001b[49m)\n",
      "\u001b[1;31mNameError\u001b[0m: name 'p' is not defined"
     ]
    }
   ],
   "source": [
    "### 6. What happens to variables in a local scope when the function call returns?\n",
    "\n",
    "#Ans:\n",
    "# when the function call executed the local variable is destroyed.\n",
    "# if you try to access it it will show a NameError.\n",
    "# the value of local variable is valid till the execution after that it will destroyed.\n",
    "# example:\n",
    "\n",
    "def sq(p):\n",
    "    p=3 # here we asign the local variable p=3\n",
    "    return p**2\n",
    "print(sq(3)) # it is showing the output square of 3 is 9\n",
    "\n",
    "print(p) # but it is showing an NameError."
   ]
  },
  {
   "cell_type": "code",
   "execution_count": 7,
   "id": "93e7ada5",
   "metadata": {},
   "outputs": [
    {
     "name": "stdout",
     "output_type": "stream",
     "text": [
      "15\n",
      "25\n"
     ]
    }
   ],
   "source": [
    "### 7. What is the concept of a return value? Is it possible to have a return value in an expression?\n",
    "\n",
    "#Ans:\n",
    "# return is an alternate to the print keyword.print keyword gives the output in none data type.\n",
    "# return is used in function call, after the return, function is muted.\n",
    "#in the below example we named the function as 'add' and p and q are the local variables in iy.\n",
    "# in return we added p+q so it will do mathemathical addition and give the output.\n",
    "# we call the function inside 'result' variable and print it.\n",
    "\n",
    "def add(p,q):\n",
    "    return p+q\n",
    "\n",
    "result=add(7,8)\n",
    "print(result)\n",
    "\n",
    "# yes, it is possible to have return value in an expression.\n",
    "# in the following example we take square as a function name with x as a local variable.\n",
    "# in result we perform addition of two functions and print result.\n",
    "def square(x):\n",
    "    return x**2\n",
    "\n",
    "result = square(3)+square(4)\n",
    "print(result)"
   ]
  },
  {
   "cell_type": "code",
   "execution_count": 8,
   "id": "88aa3989",
   "metadata": {},
   "outputs": [
    {
     "name": "stdout",
     "output_type": "stream",
     "text": [
      "None\n",
      "9\n"
     ]
    }
   ],
   "source": [
    "### 8. If a function does not have a return statement, what is the return value of a call to that function?\n",
    "\n",
    "#Ans:\n",
    "# 'return' is required to get the desired output printed.\n",
    "# without return it will execute the function but it wont print it.\n",
    "# it will return None.\n",
    "# lets understand with the following examples:\n",
    "\n",
    "# 1] without return:\n",
    "def add(x,y):\n",
    "    x+y\n",
    "    \n",
    "print(add(4,5)) # the output is \"None\"\n",
    "\n",
    "# 2] with return:\n",
    "def add(x,y):\n",
    "    return x+y\n",
    "    \n",
    "print(add(4,5)) # the output is \"9\"."
   ]
  },
  {
   "cell_type": "code",
   "execution_count": 9,
   "id": "76afd7bf",
   "metadata": {},
   "outputs": [
    {
     "name": "stdout",
     "output_type": "stream",
     "text": [
      "20\n",
      "50\n"
     ]
    }
   ],
   "source": [
    "### 9. How do you make a function variable refer to the global variable?\n",
    "\n",
    "#Ans:\n",
    "# for this we need to use the keyword called 'global'.\n",
    "# lets understand it with the example.\n",
    "\n",
    "global_variable = 20\n",
    "\n",
    "def new_global_var():\n",
    "    global global_variable # global keyword called.\n",
    "    global_variable = 50\n",
    "    \n",
    "print(global_variable) # ouput is 20 as a global variable before function.\n",
    "\n",
    "new_global_var() # function call.\n",
    "print(global_variable) # output is 50 means global_variable is changed."
   ]
  },
  {
   "cell_type": "code",
   "execution_count": 10,
   "id": "8445f1e4",
   "metadata": {},
   "outputs": [
    {
     "name": "stdout",
     "output_type": "stream",
     "text": [
      "None <class 'NoneType'>\n"
     ]
    }
   ],
   "source": [
    "### 10. What is the data type of None?\n",
    "\n",
    "#Ans:\n",
    "# data type of None value is 'NoneType'.\n",
    "# user uses 'None' when data is not available or not specified.\n",
    "# None is dfferent from the False and ' 'empty string.\n",
    "# lets understand it by example:\n",
    "\n",
    "x= None\n",
    "print(x,type(x))\n",
    "\n",
    "# x= None and type of x is \"noneType\"."
   ]
  },
  {
   "cell_type": "code",
   "execution_count": 11,
   "id": "7001f02d",
   "metadata": {},
   "outputs": [
    {
     "ename": "ModuleNotFoundError",
     "evalue": "No module named 'areallyourpetsnamederic'",
     "output_type": "error",
     "traceback": [
      "\u001b[1;31m---------------------------------------------------------------------------\u001b[0m",
      "\u001b[1;31mModuleNotFoundError\u001b[0m                       Traceback (most recent call last)",
      "Cell \u001b[1;32mIn[11], line 5\u001b[0m\n\u001b[0;32m      1\u001b[0m \u001b[38;5;66;03m### 11. What does the sentence import areallyourpetsnamederic do?\u001b[39;00m\n\u001b[0;32m      2\u001b[0m \n\u001b[0;32m      3\u001b[0m \u001b[38;5;66;03m#Ans:\u001b[39;00m\n\u001b[1;32m----> 5\u001b[0m \u001b[38;5;28;01mimport\u001b[39;00m \u001b[38;5;21;01mareallyourpetsnamederic\u001b[39;00m\n",
      "\u001b[1;31mModuleNotFoundError\u001b[0m: No module named 'areallyourpetsnamederic'"
     ]
    }
   ],
   "source": [
    "### 11. What does the sentence import areallyourpetsnamederic do?\n",
    "\n",
    "#Ans:\n",
    "\n",
    "import areallyourpetsnamederic\n",
    "\n",
    "# it is showing ModuleNotFoudError, that means there is no any module by this name in the python.\n",
    "# but we can create a module name as \"areallyourpetsnamederic\" if we need it.\n"
   ]
  },
  {
   "cell_type": "code",
   "execution_count": null,
   "id": "ca7461c0",
   "metadata": {},
   "outputs": [],
   "source": [
    "### 12. If you had a bacon() feature in a spam module, what would you call it after importing spam?\n",
    "\n",
    "#Ans:\n",
    "# here, spam is a module and bacon is a feature in that module.\n",
    "# we can access the bacon() feature but for that first we need to import the spam module.\n",
    "# then we need to type spam.(dot)bacon() to access the feature.\n",
    "import spam\n",
    "spam.bacon()"
   ]
  },
  {
   "cell_type": "code",
   "execution_count": 12,
   "id": "abf90f47",
   "metadata": {},
   "outputs": [
    {
     "name": "stdout",
     "output_type": "stream",
     "text": [
      "1.6666666666666667\n",
      "denominator should not be zero\n"
     ]
    }
   ],
   "source": [
    "### 13. What can you do to save a programme from crashing if it encounters an error?\n",
    "\n",
    "#Ans:\n",
    "# there are multiple options to save the program from crash like we can use try and except method.\n",
    "# in try and except method whatever the operation we want to do we add into try block and \n",
    "  #expected errors we add into the except block.\n",
    "# we use try and except method just not to stop the program due to some errors.\n",
    "#Example:\n",
    "\n",
    "# if user add 0 in the denominator it will show the \"ZeroDivisionError\" and further program will stop.\n",
    "# so instaed of it we can use this.\n",
    "\n",
    "# 1] denominator is 6.\n",
    "a=10\n",
    "b=6\n",
    "try:\n",
    "    c=a/b\n",
    "    print(c)\n",
    "    \n",
    "except ZeroDivisionError:\n",
    "    print('denominator should not be zero')\n",
    "    \n",
    "    \n",
    "#2] denominator is 0.   \n",
    "a=10\n",
    "b=0\n",
    "try:\n",
    "    c=a/b\n",
    "    print(c)\n",
    "    \n",
    "except ZeroDivisionError:\n",
    "    print('denominator should not be zero')\n",
    "# output is 'denominator should not be zero' but not the error."
   ]
  },
  {
   "cell_type": "code",
   "execution_count": 13,
   "id": "e1b95f03",
   "metadata": {},
   "outputs": [
    {
     "name": "stdout",
     "output_type": "stream",
     "text": [
      "denominator should not be zero\n",
      "this assignment is over\n"
     ]
    }
   ],
   "source": [
    "### 14. What is the purpose of the try clause? What is the purpose of the except clause?\n",
    "\n",
    "#Ans:\n",
    "# in python we use try and except clause to handle error in the programme.\n",
    "# for example:\n",
    "\n",
    "s=55\n",
    "r=0\n",
    "try:\n",
    "    c=s/r\n",
    "    print(c)\n",
    "\n",
    "#1] try:\n",
    "    #try block is used to execute a code which can raise an exception or error.\n",
    "    #if it doesnt raise an exception it will work fine.\n",
    "    #if it raise an exception it will go to the except block.\n",
    "\n",
    "    \n",
    "except ZeroDivisionError:\n",
    "    print('denominator should not be zero')\n",
    "\n",
    "#2] except:\n",
    "    #in except block we mention raised exception which can cause errors to handle the crash.\n",
    "    #with except we add ZeroDivisionError, ValueError, TypeError.\n",
    "    #there can be multiple except blocks for single program.\n",
    "\n",
    "finally:\n",
    "    print('this assignment is over')"
   ]
  },
  {
   "cell_type": "code",
   "execution_count": null,
   "id": "110cd914",
   "metadata": {},
   "outputs": [],
   "source": []
  }
 ],
 "metadata": {
  "kernelspec": {
   "display_name": "Python 3 (ipykernel)",
   "language": "python",
   "name": "python3"
  },
  "language_info": {
   "codemirror_mode": {
    "name": "ipython",
    "version": 3
   },
   "file_extension": ".py",
   "mimetype": "text/x-python",
   "name": "python",
   "nbconvert_exporter": "python",
   "pygments_lexer": "ipython3",
   "version": "3.10.9"
  }
 },
 "nbformat": 4,
 "nbformat_minor": 5
}
