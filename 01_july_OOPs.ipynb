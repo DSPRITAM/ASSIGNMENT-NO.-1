{
 "cells": [
  {
   "cell_type": "markdown",
   "id": "1bcbe093",
   "metadata": {},
   "source": [
    "# 01.July.OOPs"
   ]
  },
  {
   "cell_type": "code",
   "execution_count": 1,
   "id": "b5731961",
   "metadata": {},
   "outputs": [],
   "source": [
    "### 1. What is the primary goal of Object-Oriented Programming (OOP)?\n",
    "\n",
    "# Ans:\n",
    "# the primary goal of object-oriented-program to structure and \n",
    "    # organise complex program into real world objects and interaction.\n",
    "# OOPs simplify complex software development by modeling concept and\n",
    "    # entities as object which encapsulate atributes and methods into reusable.\n",
    "# OOPs promote code reusability,modular design and abstraction of complex system,\n",
    "    # making it easier to understand and collaborate on projects.\n"
   ]
  },
  {
   "cell_type": "code",
   "execution_count": 7,
   "id": "c18d4ae3",
   "metadata": {},
   "outputs": [
    {
     "name": "stdout",
     "output_type": "stream",
     "text": [
      "My name is Pritam.\n"
     ]
    }
   ],
   "source": [
    "### 2. What is an object in Python?\n",
    "\n",
    "# Ans:\n",
    "# an object is an fundamental concept in OOPs .\n",
    "# an object is an instance of a class,which is a blueprint for creating an object.\n",
    "# objet have their own unique identity, state and behaviour.\n",
    "# lets see with the example:\n",
    "\n",
    "class info: # info is a class.\n",
    "    def __init__(self,name,roll_no):\n",
    "        self.name=name\n",
    "        self.roll_no=roll_no\n",
    "    \n",
    "    def names(self):\n",
    "        print(f\"My name is {self.name}.\")\n",
    "\n",
    "# create a object:\n",
    "my_object = info('Pritam',222)\n",
    "\n",
    "my_object.names()"
   ]
  },
  {
   "cell_type": "code",
   "execution_count": 2,
   "id": "30cc4e32",
   "metadata": {},
   "outputs": [
    {
     "name": "stdout",
     "output_type": "stream",
     "text": [
      "My name is Pritam Kamble.\n"
     ]
    }
   ],
   "source": [
    "### 3. What is a class in Python?\n",
    "\n",
    "# Ans:\n",
    "# In python, class is a blueprint of an object which have similar atributes and behaviour.\n",
    "# A class encapsulates atribute(data) and function(method) into single entity.\n",
    "# The atribute represent the characteristics of that object and function perform the action or behaviour of that object.\n",
    "# example:\n",
    "\n",
    "class Person: # This is a class we have created.\n",
    "    \n",
    "    def __init__(self,name): # atributes as name.\n",
    "        self.name=name       # assigning atribute.\n",
    "        \n",
    "    def info(self):          # function or method.\n",
    "        print(f\"My name is {self.name}.\") # message or output.\n",
    "        \n",
    "        \n",
    "person1=Person(\"Pritam Kamble\")  # person1 is an object.\n",
    "person1.info()\n"
   ]
  },
  {
   "cell_type": "code",
   "execution_count": 22,
   "id": "37df86c8",
   "metadata": {},
   "outputs": [
    {
     "name": "stdout",
     "output_type": "stream",
     "text": [
      "Apple\n",
      "iphone 15\n",
      "This Apple iphone 20 is faster than our previous model.\n"
     ]
    }
   ],
   "source": [
    "### 4. What are attributes and methods in a class?\n",
    "\n",
    "# Ans:\n",
    "# 1] atributes and methods together define structure, behaviour, capabilities of an object.\n",
    "#    There are two types of atributes used in python.\n",
    "    # Instance atribute:\n",
    "    # class atribute:\n",
    "    \n",
    "class Mobile: # class = 'Mobile'\n",
    "    brand ='Apple' # class atribute.\n",
    "    \n",
    "    def __init__(self,model): # Instance atribute.\n",
    "        self.model=model\n",
    "        \n",
    "brand1 = Mobile.brand\n",
    "print(brand1)\n",
    "\n",
    "model1= Mobile(\"iphone 15\")\n",
    "print(model1.model)\n",
    "\n",
    "# 2] methods:\n",
    "#  methods are function defined inside a class which perform specific task for the object.\n",
    "#  there are two types of methods in the python.\n",
    "    # class method.\n",
    "    # Instance method.\n",
    "    \n",
    "class Mobile: # class = 'Mobile'\n",
    "    brand ='Apple' # class atribute.\n",
    "    \n",
    "    def __init__(self,model): # Instance atribute.\n",
    "        self.model=model\n",
    "     # method.   \n",
    "    def info(self):\n",
    "        print(f\"This {self.brand} {self.model} is faster than our previous model.\")\n",
    "        \n",
    "mobile1= Mobile('iphone 20')\n",
    "mobile1.info()"
   ]
  },
  {
   "cell_type": "code",
   "execution_count": 10,
   "id": "dbb709b9",
   "metadata": {},
   "outputs": [
    {
     "name": "stdout",
     "output_type": "stream",
     "text": [
      "ferrari\n"
     ]
    },
    {
     "data": {
      "text/plain": [
       "'black'"
      ]
     },
     "execution_count": 10,
     "metadata": {},
     "output_type": "execute_result"
    }
   ],
   "source": [
    "### 5. What is the difference between class variables and instance variables in Python?\n",
    "\n",
    "# Ans:\n",
    "# Class variable:\n",
    "    # A class variable is a variable which is, at outer layer of any constructor or methods.\n",
    "    # class variable is shared by all the instances of the class.\n",
    "    # class variable are associated with the class itself rather than the instances or methods.\n",
    "    # Example:\n",
    "class Vehical:\n",
    "    brand = 'ferrari'  # class variable.\n",
    "    def __init__(self,model,color,):\n",
    "        self.model=model\n",
    "        self.color=color\n",
    "        \n",
    "car1=Vehical('F17','black')\n",
    "print(car1.brand ) # this is class variable.\n",
    "    \n",
    "# Instance variable:\n",
    "    # instance variables are come under constructor and it does not share its value with every instance.\n",
    "    # at first we need to define the instance variables with the help of \"__init__\" function.\n",
    "    # if we want to use it, we need to assign it first, most of time we use \"self\" word to assign it.\n",
    "    # Example:\n",
    "#(we will take above example.)\n",
    "class Vehical:\n",
    "    brand = 'ferrari'  \n",
    "    def __init__(self,model,color,): # instance variables.\n",
    "        self.model=model    # we assign it with self.\n",
    "        self.color=color    \n",
    "        \n",
    "car1=Vehical('F17','black')\n",
    "car1.color # this is instance variable."
   ]
  },
  {
   "cell_type": "code",
   "execution_count": 27,
   "id": "530f406e",
   "metadata": {},
   "outputs": [
    {
     "name": "stdout",
     "output_type": "stream",
     "text": [
      " The ferrari car comes with red color.\n",
      " The ferrari car comes with black color.\n"
     ]
    }
   ],
   "source": [
    "### 6. What is the purpose of the self parameter in Python class methods?\n",
    "\n",
    "# Ans:\n",
    "# \"self\" is like a reference to the atribute or method which insure that the instances are in the class.\n",
    "# by including self in a first place in a method we can modify and change the value of atributewithin the class.\n",
    "# it is more like a medium to acces all the atributes within the class.\n",
    "# The self parameter refers to specific instance of the class that the method is being called.\n",
    "# lets understand it with the example:\n",
    "\n",
    "class Car:\n",
    "    brand = \"ferrari\"\n",
    "    \n",
    "    def __init__(self,color):\n",
    "        self.color = color\n",
    "        \n",
    "    def update_color(self,new_color):\n",
    "        self.color = new_color\n",
    "        \n",
    "    def info(self):\n",
    "        print(f\" The {self.brand} car comes with {self.color} color.\")\n",
    " \n",
    " # create a object as car with red color.\n",
    "car = Car(\"red\")\n",
    "car.info()\n",
    "\n",
    "# update the car color with black.\n",
    "car.update_color(\"black\")\n",
    "car.info()"
   ]
  },
  {
   "cell_type": "code",
   "execution_count": 32,
   "id": "27711852",
   "metadata": {},
   "outputs": [
    {
     "name": "stdout",
     "output_type": "stream",
     "text": [
      "4998\n",
      "4999\n",
      "The Fire and Blood of george R.R.martin ISBN 465738 published in 2004, we have 4999 copies.\n"
     ]
    }
   ],
   "source": [
    "### 7. For a library management system, you have to design the \"Book\" class with OOP\n",
    "\"\"\"principles in mind. The “Book” class will have following attributes:\n",
    "a. title: Represents the title of the book.\n",
    "b. author: Represents the author(s) of the book.\n",
    "c. isbn: Represents the ISBN (International Standard Book Number) of the book.\n",
    "d. publication_year: Represents the year of publication of the book.\n",
    "e. available_copies: Represents the number of copies available for checkout.\n",
    "The class will also include the following methods:\n",
    "a. check_out(self): Decrements the available copies by one if there are copies\n",
    "available for checkout.\n",
    "b. return_book(self): Increments the available copies by one when a book is\n",
    "returned.\n",
    "c. display_book_info(self): Displays the information about the book, including its\n",
    "attributes and the number of available copies.\"\"\"\n",
    "\n",
    "# Ans:\n",
    "\n",
    "class Book:\n",
    "    def __init__(self,title,author,isbn,publication_year,available_copies):\n",
    "        self.title=title\n",
    "        self.author=author\n",
    "        self.isbn=isbn\n",
    "        self.publication_year=publication_year\n",
    "        self.available_copies=available_copies\n",
    "        \n",
    "    def check_out(self):\n",
    "        self.available_copies-= 1\n",
    "        \n",
    "    def return_book_info(self):\n",
    "        self.available_copies+=1\n",
    "    \n",
    "    def display_book_info(self):\n",
    "        print(f\"The {self.title} of {self.author} ISBN {self.isbn} published in {self.publication_year}, we have {self.available_copies} copies.\")\n",
    "        \n",
    "    \n",
    "        \n",
    "book1 = Book(\"Fire and Blood\",\"george R.R.martin\",\"465738\",\"2004\",5000)\n",
    "book1.check_out()\n",
    "book1.check_out()\n",
    "print(book1.available_copies)\n",
    "\n",
    "book1.return_book_info()\n",
    "print(book1.available_copies)\n",
    "\n",
    "book1.display_book_info()\n"
   ]
  },
  {
   "cell_type": "code",
   "execution_count": 3,
   "id": "58734429",
   "metadata": {},
   "outputs": [
    {
     "name": "stdout",
     "output_type": "stream",
     "text": [
      "welcome sir!\n",
      "cancle the ticket please.\n",
      "My ticket number XYZ555 of ineuron-hackathon which is on  10/10/2023 in noida. My seat number is 1234 and it cost me 2000. True.\n"
     ]
    }
   ],
   "source": [
    "### 8. For a ticket booking system, you have to design the \"Ticket\" class with OOP\n",
    "\"\"\"principles in mind. The “Ticket” class should have the following attributes:\n",
    "a. ticket_id: Represents the unique identifier for the ticket.\n",
    "b. event_name: Represents the name of the event.\n",
    "c. event_date: Represents the date of the event.\n",
    "d. venue: Represents the venue of the event.\n",
    "e. seat_number: Represents the seat number associated with the ticket.\n",
    "f. price: Represents the price of the ticket.\n",
    "g. is_reserved: Represents the reservation status of the ticket.\n",
    "The class also includes the following methods:\n",
    "a. reserve_ticket(self): Marks the ticket as reserved if it is not already reserved.\n",
    "b. cancel_reservation(self): Cancels the reservation of the ticket if it is already\n",
    "reserved.\n",
    "c. display_ticket_info(self): Displays the information about the ticket, including its\n",
    "attributes and reservation status.\"\"\"\n",
    "\n",
    "# Ans:\n",
    "\n",
    "class Ticket:\n",
    "    def __init__(self,ticket_id,event_name,event_date,venue,seat_number,price,is_reserved):\n",
    "        self.ticket_id = ticket_id\n",
    "        self.event_name = event_name\n",
    "        self.event_date = event_date\n",
    "        self.venue = venue\n",
    "        self.seat_number = seat_number\n",
    "        self.price = price\n",
    "        self.is_reserved = is_reserved\n",
    "        \n",
    "    def reserve_ticket(self,seat_number):\n",
    "        if self.seat_number == 1234:\n",
    "            print(\"welcome sir!\")\n",
    "            \n",
    "        else:\n",
    "            print(\"already reserved.\")\n",
    "            \n",
    "    def cancle_reservation(self,seat_number):\n",
    "        if self.seat_number == 1234:\n",
    "            print(\"cancle the ticket please.\")\n",
    "        else:\n",
    "            print(\"book it.\")\n",
    "            \n",
    "    def display_ticket_info(self):\n",
    "        print(f\"My ticket number {self.ticket_id} of {self.event_name} which is on  {self.event_date} in {self.venue}. My seat number is {self.seat_number} and it cost me {self.price}. {self.is_reserved}.\")\n",
    "        \n",
    "ticket1 = Ticket(\"XYZ555\",\"ineuron-hackathon\",'10/10/2023','noida',1234,2000,\"True\")\n",
    "\n",
    "ticket1.reserve_ticket(1234)\n",
    "\n",
    "ticket1.cancle_reservation(1234)\n",
    "\n",
    "ticket1.display_ticket_info()"
   ]
  },
  {
   "cell_type": "code",
   "execution_count": 23,
   "id": "b7aeebaf",
   "metadata": {},
   "outputs": [
    {
     "name": "stdout",
     "output_type": "stream",
     "text": [
      " pritam have ['rise', 'aata', 'sugar', 'coffee']\n",
      " pritam have ['rise', 'aata', 'coffee']\n",
      " pritam have []\n"
     ]
    }
   ],
   "source": [
    "### 9. You are creating a shopping cart for an e-commerce website. Using OOP to model\n",
    "    #the \"ShoppingCart\" functionality the class should contain following attributes and methods:\n",
    "\"\"\"a. items: Represents the list of items in the shopping cart.\n",
    " The class also includes the following methods:\n",
    "\n",
    "a. add_item(self, item): Adds an item to the shopping cart by appending it to the\n",
    "list of items.\n",
    "b. remove_item(self, item): Removes an item from the shopping cart if it exists in\n",
    "the list.\n",
    "c. view_cart(self): Displays the items currently present in the shopping cart.\n",
    "d. clear_cart(self): Clears all items from the shopping cart by reassigning an\n",
    "empty list to the items attribute.\"\"\"\n",
    "\n",
    "# Ans:\n",
    "class ShoppingCart:\n",
    "    def __init__(self,customer):\n",
    "        self.customer = customer\n",
    "        self.items = []\n",
    "        \n",
    "    def add_item(self,item):\n",
    "        self.items.append(item)\n",
    "        \n",
    "    def remove_item(self,item):\n",
    "        if item in self.items:\n",
    "            self.items.remove(item)\n",
    "        else:\n",
    "            print(\"This item is not in cart\")\n",
    "            \n",
    "    def view_cart(self):\n",
    "            print(f\" {self.customer} have {self.items}\")\n",
    "            \n",
    "    def clear_cart(self):\n",
    "            self.items = []\n",
    "            \n",
    "# create object from a class.            \n",
    "person = ShoppingCart(\"pritam\")\n",
    "# add items in the cart.\n",
    "person.add_item('rise')\n",
    "person.add_item('aata')\n",
    "person.add_item('sugar')\n",
    "person.add_item('coffee')\n",
    "\n",
    "person.view_cart()# view the cart.\n",
    "\n",
    "# remove the items from the cart.\n",
    "person.remove_item(\"sugar\")\n",
    "person.view_cart()\n",
    "\n",
    "# clear the cart.\n",
    "person.clear_cart()\n",
    "person.view_cart()"
   ]
  },
  {
   "cell_type": "code",
   "execution_count": 1,
   "id": "2425574c",
   "metadata": {},
   "outputs": [],
   "source": [
    "### 10. Imagine a school management system. You have to design the \"Student\" class using\n",
    "\"\"\"OOP concepts.The “Student” class has the following attributes:\n",
    "a. name: Represents the name of the student.\n",
    "b. age: Represents the age of the student.\n",
    "c. grade: Represents the grade or class of the student.\n",
    "d. student_id: Represents the unique identifier for the student.\n",
    "e. attendance: Represents the attendance record of the student.\n",
    "The class should also include the following methods:\n",
    "a. update_attendance(self, date, status): Updates the attendance record of the\n",
    "student for a given date with the provided status (e.g., present or absent).\n",
    "b. get_attendance(self): Returns the attendance record of the student.\n",
    "c. get_average_attendance(self): Calculates and returns the average\n",
    "attendance percentage of the student based on their attendance record.\"\"\"\n",
    "\n",
    "# Ans:\n",
    "class Student:\n",
    "    def __init__(self,name,age,grade,student_id,attendance):\n",
    "        self.name = name\n",
    "        self.age = age\n",
    "        self.grade = grade\n",
    "        self.student_id = student_id\n",
    "        self.attendance = attendance\n",
    "        \n",
    "    def update_attendance(self,date,status):\n",
    "        if status == \"present\":\n",
    "            self.attendance+=1\n",
    "        else:\n",
    "            self.attendance\n",
    "            \n",
    "    def get_attendance(self):\n",
    "        return self.attendance\n",
    "    \n",
    "    def get_average_attendance(self):\n",
    "        # suppose out of 365 days 285 days are school days.so will take full attendance at 285 days.\n",
    "        return self.attendance * 100 / 285"
   ]
  },
  {
   "cell_type": "code",
   "execution_count": 7,
   "id": "fbf5091a",
   "metadata": {},
   "outputs": [
    {
     "name": "stdout",
     "output_type": "stream",
     "text": [
      "276\n"
     ]
    },
    {
     "data": {
      "text/plain": [
       "96.84210526315789"
      ]
     },
     "execution_count": 7,
     "metadata": {},
     "output_type": "execute_result"
    }
   ],
   "source": [
    "# create a object.\n",
    "student1 = Student(\"sangram\",\"10\",\"A+\",\"555\",275)\n",
    "# add a present day.\n",
    "student1.update_attendance(\"14/08/2022\",\"present\")\n",
    "print(student1.get_attendance())\n",
    "student1.get_average_attendance()"
   ]
  }
 ],
 "metadata": {
  "kernelspec": {
   "display_name": "Python 3 (ipykernel)",
   "language": "python",
   "name": "python3"
  },
  "language_info": {
   "codemirror_mode": {
    "name": "ipython",
    "version": 3
   },
   "file_extension": ".py",
   "mimetype": "text/x-python",
   "name": "python",
   "nbconvert_exporter": "python",
   "pygments_lexer": "ipython3",
   "version": "3.10.9"
  }
 },
 "nbformat": 4,
 "nbformat_minor": 5
}
